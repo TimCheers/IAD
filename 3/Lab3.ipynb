{
 "cells": [
  {
   "cell_type": "markdown",
   "metadata": {},
   "source": [
    "#### 1. Сгенерировать, используя модуль псевдослучайных чисел random, или ввести с клавиатуры список целых чисел. Вывести в консоль, затем перевернуть его и снова вывести в консоль."
   ]
  },
  {
   "cell_type": "code",
   "execution_count": 1,
   "metadata": {},
   "outputs": [],
   "source": [
    "import random"
   ]
  },
  {
   "cell_type": "code",
   "execution_count": 2,
   "metadata": {},
   "outputs": [
    {
     "name": "stdout",
     "output_type": "stream",
     "text": [
      "Исходный список: [26, 70, 21, 31, 56, 42, 24, 98, 2, 25]\n",
      "Перевернутый список: [25, 2, 98, 24, 42, 56, 31, 21, 70, 26]\n"
     ]
    }
   ],
   "source": [
    "original_list = [random.randint(1, 100) for _ in range(10)]\n",
    "print(\"Исходный список:\", original_list)\n",
    "reversed_list = original_list[::-1]\n",
    "print(\"Перевернутый список:\", reversed_list)"
   ]
  },
  {
   "cell_type": "markdown",
   "metadata": {},
   "source": [
    "#### 2. Сгенерировать, используя модуль псевдослучайных чисел random, или ввести с клавиатуры два списка целых чисел. Вывести их в консоль. Создать новый пустой список. Добавить в него все четные (по индексу) элементы первого списка и все нечетные (по индексу) элементы второго списка. Вывести третий список в консоль."
   ]
  },
  {
   "cell_type": "code",
   "execution_count": 3,
   "metadata": {},
   "outputs": [
    {
     "name": "stdout",
     "output_type": "stream",
     "text": [
      "Первый список: [58, 15, 61, 50, 2, 23, 22, 59, 63, 12]\n",
      "Второй список: [100, 35, 92, 67, 54, 4, 90, 53, 8, 60]\n",
      "Третий список: [58, 61, 2, 22, 63, 35, 67, 4, 53, 60]\n"
     ]
    }
   ],
   "source": [
    "list1 = [random.randint(1, 100) for _ in range(10)]\n",
    "list2 = [random.randint(1, 100) for _ in range(10)]\n",
    "print(\"Первый список:\", list1)\n",
    "print(\"Второй список:\", list2)\n",
    "combined_list = []\n",
    "for i in range(len(list1)):\n",
    "    if i % 2 == 0:\n",
    "        combined_list.append(list1[i])\n",
    "for i in range(len(list2)):\n",
    "    if i % 2 != 0:\n",
    "        combined_list.append(list2[i])\n",
    "print(\"Третий список:\", combined_list)"
   ]
  },
  {
   "cell_type": "markdown",
   "metadata": {},
   "source": [
    "#### 3. Сгенерировать, используя модуль псевдослучайных чисел random список произвольных элементов (целые числа, числа с плавающей точкой, строки). Вывести в консоль. Убрать из него все дубликаты через приведение типов. Вывести в консоль."
   ]
  },
  {
   "cell_type": "code",
   "execution_count": 4,
   "metadata": {},
   "outputs": [
    {
     "name": "stdout",
     "output_type": "stream",
     "text": [
      "Исходный список: [10, 7.628196849950252, 'apple', 'banana', 7, 6.232597258481826, 'apple']\n",
      "Список без дубликатов: [6.232597258481826, 7, 7.628196849950252, 10, 'apple', 'banana']\n"
     ]
    }
   ],
   "source": [
    "# Генерируем список произвольных элементов\n",
    "random_list = [random.randint(1, 10), random.uniform(1.0, 10.0), \"apple\", \"banana\", random.randint(1, 10), random.uniform(1.0, 10.0), \"apple\"]\n",
    "\n",
    "# Выводим исходный список\n",
    "print(\"Исходный список:\", random_list)\n",
    "\n",
    "# Убираем дубликаты через приведение типов\n",
    "unique_list = list(set(random_list))\n",
    "\n",
    "# Выводим список без дубликатов\n",
    "print(\"Список без дубликатов:\", unique_list)"
   ]
  },
  {
   "cell_type": "markdown",
   "metadata": {},
   "source": [
    "#### 4. Сгенерировать, используя модуль псевдослучайных чисел random словарь, где ключом является строка, значением — целое число или число с плавающей точкой. Вывести в консоль. Для всех уникальных значений создать кортеж, где первым элементом будет значение, вторым — список связанных с ним ключей. Собрать эти кортежи в список, вывести его в консоль."
   ]
  },
  {
   "cell_type": "code",
   "execution_count": 5,
   "metadata": {},
   "outputs": [
    {
     "name": "stdout",
     "output_type": "stream",
     "text": [
      "Исходный словарь: {'key1': 6, 'key2': 4.505678899405329, 'key3': 6, 'key4': 4.843568017359751, 'key5': 6}\n",
      "Список кортежей уникальных значений и связанных с ними ключей: [(6, ['key1', 'key3', 'key5']), (4.505678899405329, ['key2']), (4.843568017359751, ['key4'])]\n"
     ]
    }
   ],
   "source": [
    "random_dict = {'key1': random.randint(1, 10),\n",
    "               'key2': random.uniform(1.0, 10.0), \n",
    "               'key3': random.randint(1, 10), \n",
    "               'key4': random.uniform(1.0, 10.0), \n",
    "               'key5': random.randint(1, 10)}\n",
    "print(\"Исходный словарь:\", random_dict)\n",
    "unique_values = {}\n",
    "for key, value in random_dict.items():\n",
    "    if value not in unique_values:\n",
    "        unique_values[value] = [key]\n",
    "    else:\n",
    "        unique_values[value].append(key)\n",
    "result_list = [(value, keys) for value, keys in unique_values.items()]\n",
    "print(\"Список кортежей уникальных значений и связанных с ними ключей:\", result_list)\n"
   ]
  },
  {
   "cell_type": "markdown",
   "metadata": {},
   "source": [
    "#### 5. Сгенерировать, используя модуль псевдослучайных чисел random, или ввести с клавиатуры два словаря, где ключом является строка, значением — целое число или число с плавающей точкой. Вывести в консоль. Найти пересечения множеств значений словарей. Создать новый словарь, содержащий только те пары ключ-значение, значения из которых входит в пересечение. Вывести в консоль."
   ]
  },
  {
   "cell_type": "code",
   "execution_count": 6,
   "metadata": {},
   "outputs": [
    {
     "name": "stdout",
     "output_type": "stream",
     "text": [
      "Первый словарь: {'key1': 9, 'key2': 2, 'key3': 6}\n",
      "Второй словарь: {'key4': 1, 'key5': 1, 'key6': 2}\n",
      "Словарь с пересечением значений: {'key2': 2}\n"
     ]
    }
   ],
   "source": [
    "dict1 = {'key1': random.randint(1, 10), 'key2': random.randint(1, 10), 'key3': random.randint(1, 10)}\n",
    "dict2 = {'key4': random.randint(1, 10), 'key5': random.randint(1, 10), 'key6': random.randint(1, 10)}\n",
    "print(\"Первый словарь:\", dict1)\n",
    "print(\"Второй словарь:\", dict2)\n",
    "intersection = set(dict1.values()) & set(dict2.values())\n",
    "intersection_dict = {key: value for key, value in dict1.items() if value in intersection}\n",
    "print(\"Словарь с пересечением значений:\", intersection_dict)"
   ]
  }
 ],
 "metadata": {
  "kernelspec": {
   "display_name": "Python 3",
   "language": "python",
   "name": "python3"
  },
  "language_info": {
   "codemirror_mode": {
    "name": "ipython",
    "version": 3
   },
   "file_extension": ".py",
   "mimetype": "text/x-python",
   "name": "python",
   "nbconvert_exporter": "python",
   "pygments_lexer": "ipython3",
   "version": "3.11.5"
  }
 },
 "nbformat": 4,
 "nbformat_minor": 2
}
