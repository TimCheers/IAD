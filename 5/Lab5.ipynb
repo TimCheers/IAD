{
 "cells": [
  {
   "cell_type": "code",
   "execution_count": 1,
   "metadata": {},
   "outputs": [
    {
     "name": "stdout",
     "output_type": "stream",
     "text": [
      "<?xml version=\"1.0\" encoding=\"utf-8\"?>\n",
      "<soap:Envelope xmlns:soap=\"http://schemas.xmlsoap.org/soap/envelope/\">\n",
      "  <soap:Body>\n",
      "    <m:CountryIntPhoneCodeResponse xmlns:m=\"http://www.oorsprong.org/websamples.countryinfo\">\n",
      "      <m:CountryIntPhoneCodeResult>7</m:CountryIntPhoneCodeResult>\n",
      "    </m:CountryIntPhoneCodeResponse>\n",
      "  </soap:Body>\n",
      "</soap:Envelope>\n",
      "<Response [200]>\n"
     ]
    }
   ],
   "source": [
    "import requests\n",
    "\n",
    "# SOAP URL\n",
    "url = \"http://webservices.oorsprong.org/websamples.countryinfo/CountryInfoService.wso\"\n",
    "\n",
    "# Structured XML payload\n",
    "payload = \"\"\"<?xml version=\\\"1.0\\\" encoding=\\\"utf-8\\\"?>\n",
    "            <soap:Envelope xmlns:soap=\\\"http://schemas.xmlsoap.org/soap/envelope/\\\">\n",
    "                <soap:Body>\n",
    "                    <CountryIntPhoneCode xmlns=\\\"http://www.oorsprong.org/websamples.countryinfo\\\">\n",
    "                        <sCountryISOCode>RU</sCountryISOCode>\n",
    "                    </CountryIntPhoneCode>\n",
    "                </soap:Body>\n",
    "            </soap:Envelope>\"\"\"\n",
    "\n",
    "# Headers\n",
    "headers = {\n",
    "    'Content-Type': 'text/xml; charset=utf-8'\n",
    "}\n",
    "\n",
    "# POST request\n",
    "response = requests.request(\"POST\", url, headers=headers, data=payload)\n",
    "\n",
    "# Response\n",
    "print(response.text)\n",
    "print(response)"
   ]
  },
  {
   "cell_type": "code",
   "execution_count": 7,
   "metadata": {},
   "outputs": [
    {
     "name": "stdout",
     "output_type": "stream",
     "text": [
      "Столица для страны RU - Moscow\n",
      "Столица для страны US - Washington\n"
     ]
    }
   ],
   "source": [
    "import zeep\n",
    "\n",
    "\n",
    "wsdl_url = \"http://webservices.oorsprong.org/websamples.countryinfo/CountryInfoService.wso?WSDL\"\n",
    "method_url = \"http://webservices.oorsprong.org/websamples.countryinfo/CapitalCity\"\n",
    "service_url = \"http://webservices.oorsprong.org/websamples.countryinfo/CountryInfoService.wso\"\n",
    "header = zeep.xsd.Element(\n",
    "    \"Header\",\n",
    "    zeep.xsd.ComplexType(\n",
    "        [\n",
    "            zeep.xsd.Element(\n",
    "                \"{http://www.w3.org/2005/08/addressing}Action\", zeep.xsd.String()\n",
    "            ),\n",
    "            zeep.xsd.Element(\n",
    "                \"{http://www.w3.org/2005/08/addressing}To\", zeep.xsd.String()\n",
    "            ),\n",
    "        ]\n",
    "    ),\n",
    ")\n",
    "header_value = header(Action=method_url, To=service_url)\n",
    "client = zeep.Client(wsdl=wsdl_url)\n",
    "country_code = \"RU\"\n",
    "result = client.service.CapitalCity(\n",
    "    sCountryISOCode=country_code,\n",
    "    _soapheaders=[header_value]\n",
    ")\n",
    "\n",
    "print(f\"Столица для страны {country_code} - {result}\")\n",
    "country_code = \"US\"\n",
    "result = client.service.CapitalCity(\n",
    "    sCountryISOCode=country_code,\n",
    "    _soapheaders=[header_value]\n",
    ")\n",
    "\n",
    "print(f\"Столица для страны {country_code} - {result}\")"
   ]
  }
 ],
 "metadata": {
  "kernelspec": {
   "display_name": "Python 3",
   "language": "python",
   "name": "python3"
  },
  "language_info": {
   "codemirror_mode": {
    "name": "ipython",
    "version": 3
   },
   "file_extension": ".py",
   "mimetype": "text/x-python",
   "name": "python",
   "nbconvert_exporter": "python",
   "pygments_lexer": "ipython3",
   "version": "3.11.5"
  }
 },
 "nbformat": 4,
 "nbformat_minor": 2
}
